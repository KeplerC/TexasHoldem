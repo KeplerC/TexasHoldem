{
 "cells": [
  {
   "cell_type": "code",
   "execution_count": 1,
   "metadata": {
    "collapsed": true
   },
   "outputs": [],
   "source": [
    "SCORE_FOLD = 1 #if expected score is below two pairs, then fold\n",
    "\n",
    "#import libraries \n",
    "import pandas as pd\n",
    "import tempfile\n",
    "import urllib\n",
    "\n"
   ]
  },
  {
   "cell_type": "code",
   "execution_count": 2,
   "metadata": {
    "collapsed": false
   },
   "outputs": [
    {
     "name": "stdout",
     "output_type": "stream",
     "text": [
      "       S1  C1  S2  C2  S3  C3  S4  C4  S5  C5  Hand\n",
      "0       1  10   1  11   1  13   1  12   1   1     9\n",
      "1       2  11   2  13   2  10   2  12   2   1     9\n",
      "2       3  12   3  11   3  13   3  10   3   1     9\n",
      "3       4  10   4  11   4   1   4  13   4  12     9\n",
      "4       4   1   4  13   4  12   4  11   4  10     9\n",
      "5       1   2   1   4   1   5   1   3   1   6     8\n",
      "6       1   9   1  12   1  10   1  11   1  13     8\n",
      "7       2   1   2   2   2   3   2   4   2   5     8\n",
      "8       3   5   3   6   3   9   3   7   3   8     8\n",
      "9       4   1   4   4   4   2   4   3   4   5     8\n",
      "10      1   1   2   1   3   9   1   5   2   3     1\n",
      "11      2   6   2   1   4  13   2   4   4   9     0\n",
      "12      1  10   4   6   1   2   1   1   3   8     0\n",
      "13      2  13   2   1   4   4   1   5   2  11     0\n",
      "14      3   8   4  12   3   9   4   2   3   2     1\n",
      "15      1   3   4   7   1   5   2   4   4  13     0\n",
      "16      1   4   1   1   1   3   3   5   3   2     4\n",
      "17      3   8   3  12   2   7   2   6   1   2     0\n",
      "18      4   8   1  11   4   6   3   2   4  12     0\n",
      "19      3   7   2   7   4  11   1  12   3   1     1\n",
      "20      1  13   4   8   2   7   2  10   3  13     1\n",
      "21      2   6   2   8   1  11   1   4   3   7     0\n",
      "22      3  10   2  10   4   5   1   2   3   8     1\n",
      "23      2   1   3  13   4   6   1   9   4   1     1\n",
      "24      2  10   2   8   1   8   3   2   2  13     1\n",
      "25      2  13   1   5   4   5   4   8   3   3     1\n",
      "26      3   1   1   5   2   7   3  13   1   1     1\n",
      "27      1   7   1   5   4   8   1   6   2   6     1\n",
      "28      3   7   3   9   2  12   2   5   4   4     0\n",
      "29      2  10   1   1   1  12   4   6   2   8     0\n",
      "...    ..  ..  ..  ..  ..  ..  ..  ..  ..  ..   ...\n",
      "24980   4   5   4  13   3  10   1  13   3   2     1\n",
      "24981   3   3   1  11   4   2   3   6   3   9     0\n",
      "24982   4   1   2   1   1   3   2   6   3   1     3\n",
      "24983   3   2   3   1   4  10   4   6   1   3     0\n",
      "24984   2   9   3   1   4   5   2   6   3  10     0\n",
      "24985   3  10   1   5   3   3   4   3   4   2     1\n",
      "24986   2   8   2   5   1  11   4   1   1  12     0\n",
      "24987   2  12   3   9   1   4   3   7   4   3     0\n",
      "24988   4   8   1   8   1   4   3   3   4  12     1\n",
      "24989   4  11   3   2   2  13   4   6   4  12     0\n",
      "24990   4  10   2  11   2   9   4   5   1   8     0\n",
      "24991   2  11   2   9   4   9   4   6   2  10     1\n",
      "24992   4   6   4  10   1   1   1   4   1   3     0\n",
      "24993   2   6   2  13   2   5   4   3   2  11     0\n",
      "24994   4   7   1  10   2   6   1  11   3   7     1\n",
      "24995   2  12   1   2   4   8   3   3   4   6     0\n",
      "24996   2  11   1   5   1  10   4  10   2  13     1\n",
      "24997   3   7   3  13   2   4   1  12   3   8     0\n",
      "24998   1   8   4   1   4  12   1  13   1  10     0\n",
      "24999   4  12   3  11   4   4   3  12   2  12     3\n",
      "25000   2   8   2  12   4   3   4   2   4   4     0\n",
      "25001   2  12   3   5   3   8   4   1   4   2     0\n",
      "25002   4  10   2  13   4   5   4   7   1   5     1\n",
      "25003   1  12   2   9   2  12   4   8   1  13     1\n",
      "25004   3   5   3   7   4  11   3  11   3   2     1\n",
      "25005   3   9   2   6   4  11   4  12   2   4     0\n",
      "25006   4   1   4  10   3  13   3   4   1  10     1\n",
      "25007   2   1   2  10   4   4   4   1   4  13     1\n",
      "25008   2  12   4   3   1  10   1  12   4   9     1\n",
      "25009   1   7   3  11   3   3   4   8   3   7     1\n",
      "\n",
      "[25010 rows x 11 columns]\n"
     ]
    }
   ],
   "source": [
    "#read training file from UCI dataset \n",
    "#train_file = tempfile.NamedTemporaryFile()\n",
    "#urllib.request.urlretrieve(\"https://archive.ics.uci.edu/ml/machine-learning-databases/poker/poker-hand-training-true.data\", train_file.name)\n",
    "\n",
    "CSV_COLUMNS = [\"S1\",\"C1\",\"S2\",\"C2\",\"S3\",\"C3\",\"S4\",\"C4\", \"S5\",\"C5\",\"Hand\"]\n",
    "read_df = pd.read_csv(\"./poker-hand-training-true.data\", names=CSV_COLUMNS, skipinitialspace=True)\n",
    "#read_df = pd.read_csv(train_file.name, names=CSV_COLUMNS, skipinitialspace=True)\n",
    "print(read_df)"
   ]
  },
  {
   "cell_type": "code",
   "execution_count": 35,
   "metadata": {
    "collapsed": false
   },
   "outputs": [
    {
     "name": "stdout",
     "output_type": "stream",
     "text": [
      "[(0, 2), (0, 4), (0, 6), (0, 8), (2, 4), (2, 6), (2, 8), (4, 6), (4, 8), (6, 8)]\n"
     ]
    },
    {
     "name": "stderr",
     "output_type": "stream",
     "text": [
      "/usr/lib/python3/dist-packages/ipykernel/__main__.py:15: SettingWithCopyWarning: \n",
      "A value is trying to be set on a copy of a slice from a DataFrame.\n",
      "Try using .loc[row_indexer,col_indexer] = value instead\n",
      "\n",
      "See the caveats in the documentation: http://pandas.pydata.org/pandas-docs/stable/indexing.html#indexing-view-versus-copy\n",
      "/usr/lib/python3/dist-packages/ipykernel/__main__.py:16: SettingWithCopyWarning: \n",
      "A value is trying to be set on a copy of a slice from a DataFrame.\n",
      "Try using .loc[row_indexer,col_indexer] = value instead\n",
      "\n",
      "See the caveats in the documentation: http://pandas.pydata.org/pandas-docs/stable/indexing.html#indexing-view-versus-copy\n",
      "/usr/lib/python3/dist-packages/ipykernel/__main__.py:17: SettingWithCopyWarning: \n",
      "A value is trying to be set on a copy of a slice from a DataFrame.\n",
      "Try using .loc[row_indexer,col_indexer] = value instead\n",
      "\n",
      "See the caveats in the documentation: http://pandas.pydata.org/pandas-docs/stable/indexing.html#indexing-view-versus-copy\n",
      "/usr/lib/python3/dist-packages/ipykernel/__main__.py:18: SettingWithCopyWarning: \n",
      "A value is trying to be set on a copy of a slice from a DataFrame.\n",
      "Try using .loc[row_indexer,col_indexer] = value instead\n",
      "\n",
      "See the caveats in the documentation: http://pandas.pydata.org/pandas-docs/stable/indexing.html#indexing-view-versus-copy\n",
      "/usr/lib/python3/dist-packages/ipykernel/__main__.py:19: SettingWithCopyWarning: \n",
      "A value is trying to be set on a copy of a slice from a DataFrame.\n",
      "Try using .loc[row_indexer,col_indexer] = value instead\n",
      "\n",
      "See the caveats in the documentation: http://pandas.pydata.org/pandas-docs/stable/indexing.html#indexing-view-versus-copy\n"
     ]
    },
    {
     "name": "stdout",
     "output_type": "stream",
     "text": [
      "       S1  C1  S2  C2  Hand  diff_S  diff_C  diff_S_sc  sum_C  prod_C\n",
      "0       1  10   1  11     9       0       1          0     21    11.0\n",
      "1       2  11   2  13     9       0       2          0     24    14.3\n",
      "2       3  12   3  11     9       0       1          0     23    13.2\n",
      "3       4  10   4  11     9       0       1          0     21    11.0\n",
      "4       4   1   4  13     9       0      12          0     14     1.3\n",
      "5       1   2   1   4     8       0       2          0      6     0.8\n",
      "6       1   9   1  12     8       0       3          0     21    10.8\n",
      "7       2   1   2   2     8       0       1          0      3     0.2\n",
      "8       3   5   3   6     8       0       1          0     11     3.0\n",
      "9       4   1   4   4     8       0       3          0      5     0.4\n",
      "10      1   1   2   1     1       1       0          3      2     0.1\n",
      "11      2   6   2   1     0       0       5          0      7     0.6\n",
      "12      1  10   4   6     0       3       4          9     16     6.0\n",
      "13      2  13   2   1     0       0      12          0     14     1.3\n",
      "14      3   8   4  12     1       1       4          3     20     9.6\n",
      "15      1   3   4   7     0       3       4          9     10     2.1\n",
      "16      1   4   1   1     4       0       3          0      5     0.4\n",
      "17      3   8   3  12     0       0       4          0     20     9.6\n",
      "18      4   8   1  11     0       3       3          9     19     8.8\n",
      "19      3   7   2   7     1       1       0          3     14     4.9\n",
      "20      1  13   4   8     1       3       5          9     21    10.4\n",
      "21      2   6   2   8     0       0       2          0     14     4.8\n",
      "22      3  10   2  10     1       1       0          3     20    10.0\n",
      "23      2   1   3  13     1       1      12          3     14     1.3\n",
      "24      2  10   2   8     1       0       2          0     18     8.0\n",
      "25      2  13   1   5     1       1       8          3     18     6.5\n",
      "26      3   1   1   5     1       2       4          6      6     0.5\n",
      "27      1   7   1   5     1       0       2          0     12     3.5\n",
      "28      3   7   3   9     0       0       2          0     16     6.3\n",
      "29      2  10   1   1     0       1       9          3     11     1.0\n",
      "...    ..  ..  ..  ..   ...     ...     ...        ...    ...     ...\n",
      "24980   1  13   3   2     1       2      11          6     15     2.6\n",
      "24981   3   6   3   9     0       0       3          0     15     5.4\n",
      "24982   2   6   3   1     3       1       5          3      7     0.6\n",
      "24983   4   6   1   3     0       3       3          9      9     1.8\n",
      "24984   2   6   3  10     0       1       4          3     16     6.0\n",
      "24985   4   3   4   2     1       0       1          0      5     0.6\n",
      "24986   4   1   1  12     0       3      11          9     13     1.2\n",
      "24987   3   7   4   3     0       1       4          3     10     2.1\n",
      "24988   3   3   4  12     1       1       9          3     15     3.6\n",
      "24989   4   6   4  12     0       0       6          0     18     7.2\n",
      "24990   4   5   1   8     0       3       3          9     13     4.0\n",
      "24991   4   6   2  10     1       2       4          6     16     6.0\n",
      "24992   1   4   1   3     0       0       1          0      7     1.2\n",
      "24993   4   3   2  11     0       2       8          6     14     3.3\n",
      "24994   1  11   3   7     1       2       4          6     18     7.7\n",
      "24995   3   3   4   6     0       1       3          3      9     1.8\n",
      "24996   4  10   2  13     1       2       3          6     23    13.0\n",
      "24997   1  12   3   8     0       2       4          6     20     9.6\n",
      "24998   1  13   1  10     0       0       3          0     23    13.0\n",
      "24999   3  12   2  12     3       1       0          3     24    14.4\n",
      "25000   4   2   4   4     0       0       2          0      6     0.8\n",
      "25001   4   1   4   2     0       0       1          0      3     0.2\n",
      "25002   4   7   1   5     1       3       2          9     12     3.5\n",
      "25003   4   8   1  13     1       3       5          9     21    10.4\n",
      "25004   3  11   3   2     1       0       9          0     13     2.2\n",
      "25005   4  12   2   4     0       2       8          6     16     4.8\n",
      "25006   3   4   1  10     1       2       6          6     14     4.0\n",
      "25007   4   1   4  13     1       0      12          0     14     1.3\n",
      "25008   1  12   4   9     1       3       3          9     21    10.8\n",
      "25009   4   8   3   7     1       1       1          3     15     5.6\n",
      "\n",
      "[250100 rows x 10 columns]\n"
     ]
    }
   ],
   "source": [
    "#generate training cases \n",
    "#because we have only two cards available, we generate two combinations with corresponding result \n",
    "\n",
    "import itertools\n",
    "\n",
    "#select two combinations \n",
    "train_list = list(itertools.combinations(range(0,10,2), 2))\n",
    "print(train_list)\n",
    "\n",
    "frames = []\n",
    "for target in train_list:\n",
    "    local_train_list = [target[0], target[0]+1, target[1], target[1]+1, 10] #append the final result to our table \n",
    "    local_data_frame = read_df.iloc[:, local_train_list]\n",
    "    local_data_frame.columns = [\"S1\",\"C1\",\"S2\",\"C2\", \"Hand\"]\n",
    "    local_data_frame['diff_S'] = abs(local_data_frame['S1'] - local_data_frame['S2'])\n",
    "    local_data_frame['diff_C'] = abs(local_data_frame['C1'] - local_data_frame['C2'])\n",
    "    local_data_frame['diff_S_sc'] = abs((local_data_frame['S1'] - local_data_frame['S2'])) * 3\n",
    "    local_data_frame['sum_C'] = local_data_frame['C1'] + local_data_frame['C2']\n",
    "    local_data_frame['prod_C'] = (local_data_frame['C1'] * local_data_frame['C2']) / 10\n",
    "    frames.append(local_data_frame)\n",
    "training_df = pd.concat(frames)\n",
    "print(training_df)\n"
   ]
  },
  {
   "cell_type": "code",
   "execution_count": 45,
   "metadata": {
    "collapsed": false
   },
   "outputs": [
    {
     "ename": "KeyError",
     "evalue": "'Hand'",
     "output_type": "error",
     "traceback": [
      "\u001b[0;31m---------------------------------------------------------------------------\u001b[0m",
      "\u001b[0;31mKeyError\u001b[0m                                  Traceback (most recent call last)",
      "\u001b[0;32m/home/keplerc/.local/lib/python3.5/site-packages/pandas/core/indexes/base.py\u001b[0m in \u001b[0;36mget_loc\u001b[0;34m(self, key, method, tolerance)\u001b[0m\n\u001b[1;32m   2441\u001b[0m             \u001b[0;32mtry\u001b[0m\u001b[0;34m:\u001b[0m\u001b[0;34m\u001b[0m\u001b[0m\n\u001b[0;32m-> 2442\u001b[0;31m                 \u001b[0;32mreturn\u001b[0m \u001b[0mself\u001b[0m\u001b[0;34m.\u001b[0m\u001b[0m_engine\u001b[0m\u001b[0;34m.\u001b[0m\u001b[0mget_loc\u001b[0m\u001b[0;34m(\u001b[0m\u001b[0mkey\u001b[0m\u001b[0;34m)\u001b[0m\u001b[0;34m\u001b[0m\u001b[0m\n\u001b[0m\u001b[1;32m   2443\u001b[0m             \u001b[0;32mexcept\u001b[0m \u001b[0mKeyError\u001b[0m\u001b[0;34m:\u001b[0m\u001b[0;34m\u001b[0m\u001b[0m\n",
      "\u001b[0;32mpandas/_libs/index.pyx\u001b[0m in \u001b[0;36mpandas._libs.index.IndexEngine.get_loc (pandas/_libs/index.c:5280)\u001b[0;34m()\u001b[0m\n",
      "\u001b[0;32mpandas/_libs/index.pyx\u001b[0m in \u001b[0;36mpandas._libs.index.IndexEngine.get_loc (pandas/_libs/index.c:5126)\u001b[0;34m()\u001b[0m\n",
      "\u001b[0;32mpandas/_libs/hashtable_class_helper.pxi\u001b[0m in \u001b[0;36mpandas._libs.hashtable.PyObjectHashTable.get_item (pandas/_libs/hashtable.c:20523)\u001b[0;34m()\u001b[0m\n",
      "\u001b[0;32mpandas/_libs/hashtable_class_helper.pxi\u001b[0m in \u001b[0;36mpandas._libs.hashtable.PyObjectHashTable.get_item (pandas/_libs/hashtable.c:20477)\u001b[0;34m()\u001b[0m\n",
      "\u001b[0;31mKeyError\u001b[0m: 'Hand'",
      "\nDuring handling of the above exception, another exception occurred:\n",
      "\u001b[0;31mKeyError\u001b[0m                                  Traceback (most recent call last)",
      "\u001b[0;32m<ipython-input-45-23079968240d>\u001b[0m in \u001b[0;36m<module>\u001b[0;34m()\u001b[0m\n\u001b[0;32m----> 1\u001b[0;31m \u001b[0mtrain_labels\u001b[0m \u001b[0;34m=\u001b[0m \u001b[0;34m(\u001b[0m\u001b[0mtraining_df\u001b[0m\u001b[0;34m[\u001b[0m\u001b[0;34m\"Hand\"\u001b[0m\u001b[0;34m]\u001b[0m\u001b[0;34m.\u001b[0m\u001b[0mapply\u001b[0m\u001b[0;34m(\u001b[0m\u001b[0;32mlambda\u001b[0m \u001b[0mx\u001b[0m\u001b[0;34m:\u001b[0m \u001b[0mx\u001b[0m \u001b[0;34m>\u001b[0m \u001b[0mSCORE_FOLD\u001b[0m\u001b[0;34m)\u001b[0m\u001b[0;34m)\u001b[0m\u001b[0;34m.\u001b[0m\u001b[0mastype\u001b[0m\u001b[0;34m(\u001b[0m\u001b[0mint\u001b[0m\u001b[0;34m)\u001b[0m\u001b[0;34m\u001b[0m\u001b[0m\n\u001b[0m\u001b[1;32m      2\u001b[0m \u001b[0mtraining_df\u001b[0m \u001b[0;34m=\u001b[0m \u001b[0mtraining_df\u001b[0m\u001b[0;34m.\u001b[0m\u001b[0mdrop\u001b[0m\u001b[0;34m(\u001b[0m\u001b[0;34m'Hand'\u001b[0m\u001b[0;34m,\u001b[0m \u001b[0;36m1\u001b[0m\u001b[0;34m)\u001b[0m\u001b[0;34m\u001b[0m\u001b[0m\n\u001b[1;32m      3\u001b[0m \u001b[0mprint\u001b[0m\u001b[0;34m(\u001b[0m\u001b[0mtrain_labels\u001b[0m\u001b[0;34m)\u001b[0m\u001b[0;34m\u001b[0m\u001b[0m\n\u001b[1;32m      4\u001b[0m \u001b[0mprint\u001b[0m\u001b[0;34m(\u001b[0m\u001b[0mtraining_df\u001b[0m\u001b[0;34m)\u001b[0m\u001b[0;34m\u001b[0m\u001b[0m\n",
      "\u001b[0;32m/home/keplerc/.local/lib/python3.5/site-packages/pandas/core/frame.py\u001b[0m in \u001b[0;36m__getitem__\u001b[0;34m(self, key)\u001b[0m\n\u001b[1;32m   1962\u001b[0m             \u001b[0;32mreturn\u001b[0m \u001b[0mself\u001b[0m\u001b[0;34m.\u001b[0m\u001b[0m_getitem_multilevel\u001b[0m\u001b[0;34m(\u001b[0m\u001b[0mkey\u001b[0m\u001b[0;34m)\u001b[0m\u001b[0;34m\u001b[0m\u001b[0m\n\u001b[1;32m   1963\u001b[0m         \u001b[0;32melse\u001b[0m\u001b[0;34m:\u001b[0m\u001b[0;34m\u001b[0m\u001b[0m\n\u001b[0;32m-> 1964\u001b[0;31m             \u001b[0;32mreturn\u001b[0m \u001b[0mself\u001b[0m\u001b[0;34m.\u001b[0m\u001b[0m_getitem_column\u001b[0m\u001b[0;34m(\u001b[0m\u001b[0mkey\u001b[0m\u001b[0;34m)\u001b[0m\u001b[0;34m\u001b[0m\u001b[0m\n\u001b[0m\u001b[1;32m   1965\u001b[0m \u001b[0;34m\u001b[0m\u001b[0m\n\u001b[1;32m   1966\u001b[0m     \u001b[0;32mdef\u001b[0m \u001b[0m_getitem_column\u001b[0m\u001b[0;34m(\u001b[0m\u001b[0mself\u001b[0m\u001b[0;34m,\u001b[0m \u001b[0mkey\u001b[0m\u001b[0;34m)\u001b[0m\u001b[0;34m:\u001b[0m\u001b[0;34m\u001b[0m\u001b[0m\n",
      "\u001b[0;32m/home/keplerc/.local/lib/python3.5/site-packages/pandas/core/frame.py\u001b[0m in \u001b[0;36m_getitem_column\u001b[0;34m(self, key)\u001b[0m\n\u001b[1;32m   1969\u001b[0m         \u001b[0;31m# get column\u001b[0m\u001b[0;34m\u001b[0m\u001b[0;34m\u001b[0m\u001b[0m\n\u001b[1;32m   1970\u001b[0m         \u001b[0;32mif\u001b[0m \u001b[0mself\u001b[0m\u001b[0;34m.\u001b[0m\u001b[0mcolumns\u001b[0m\u001b[0;34m.\u001b[0m\u001b[0mis_unique\u001b[0m\u001b[0;34m:\u001b[0m\u001b[0;34m\u001b[0m\u001b[0m\n\u001b[0;32m-> 1971\u001b[0;31m             \u001b[0;32mreturn\u001b[0m \u001b[0mself\u001b[0m\u001b[0;34m.\u001b[0m\u001b[0m_get_item_cache\u001b[0m\u001b[0;34m(\u001b[0m\u001b[0mkey\u001b[0m\u001b[0;34m)\u001b[0m\u001b[0;34m\u001b[0m\u001b[0m\n\u001b[0m\u001b[1;32m   1972\u001b[0m \u001b[0;34m\u001b[0m\u001b[0m\n\u001b[1;32m   1973\u001b[0m         \u001b[0;31m# duplicate columns & possible reduce dimensionality\u001b[0m\u001b[0;34m\u001b[0m\u001b[0;34m\u001b[0m\u001b[0m\n",
      "\u001b[0;32m/home/keplerc/.local/lib/python3.5/site-packages/pandas/core/generic.py\u001b[0m in \u001b[0;36m_get_item_cache\u001b[0;34m(self, item)\u001b[0m\n\u001b[1;32m   1643\u001b[0m         \u001b[0mres\u001b[0m \u001b[0;34m=\u001b[0m \u001b[0mcache\u001b[0m\u001b[0;34m.\u001b[0m\u001b[0mget\u001b[0m\u001b[0;34m(\u001b[0m\u001b[0mitem\u001b[0m\u001b[0;34m)\u001b[0m\u001b[0;34m\u001b[0m\u001b[0m\n\u001b[1;32m   1644\u001b[0m         \u001b[0;32mif\u001b[0m \u001b[0mres\u001b[0m \u001b[0;32mis\u001b[0m \u001b[0;32mNone\u001b[0m\u001b[0;34m:\u001b[0m\u001b[0;34m\u001b[0m\u001b[0m\n\u001b[0;32m-> 1645\u001b[0;31m             \u001b[0mvalues\u001b[0m \u001b[0;34m=\u001b[0m \u001b[0mself\u001b[0m\u001b[0;34m.\u001b[0m\u001b[0m_data\u001b[0m\u001b[0;34m.\u001b[0m\u001b[0mget\u001b[0m\u001b[0;34m(\u001b[0m\u001b[0mitem\u001b[0m\u001b[0;34m)\u001b[0m\u001b[0;34m\u001b[0m\u001b[0m\n\u001b[0m\u001b[1;32m   1646\u001b[0m             \u001b[0mres\u001b[0m \u001b[0;34m=\u001b[0m \u001b[0mself\u001b[0m\u001b[0;34m.\u001b[0m\u001b[0m_box_item_values\u001b[0m\u001b[0;34m(\u001b[0m\u001b[0mitem\u001b[0m\u001b[0;34m,\u001b[0m \u001b[0mvalues\u001b[0m\u001b[0;34m)\u001b[0m\u001b[0;34m\u001b[0m\u001b[0m\n\u001b[1;32m   1647\u001b[0m             \u001b[0mcache\u001b[0m\u001b[0;34m[\u001b[0m\u001b[0mitem\u001b[0m\u001b[0;34m]\u001b[0m \u001b[0;34m=\u001b[0m \u001b[0mres\u001b[0m\u001b[0;34m\u001b[0m\u001b[0m\n",
      "\u001b[0;32m/home/keplerc/.local/lib/python3.5/site-packages/pandas/core/internals.py\u001b[0m in \u001b[0;36mget\u001b[0;34m(self, item, fastpath)\u001b[0m\n\u001b[1;32m   3588\u001b[0m \u001b[0;34m\u001b[0m\u001b[0m\n\u001b[1;32m   3589\u001b[0m             \u001b[0;32mif\u001b[0m \u001b[0;32mnot\u001b[0m \u001b[0misnull\u001b[0m\u001b[0;34m(\u001b[0m\u001b[0mitem\u001b[0m\u001b[0;34m)\u001b[0m\u001b[0;34m:\u001b[0m\u001b[0;34m\u001b[0m\u001b[0m\n\u001b[0;32m-> 3590\u001b[0;31m                 \u001b[0mloc\u001b[0m \u001b[0;34m=\u001b[0m \u001b[0mself\u001b[0m\u001b[0;34m.\u001b[0m\u001b[0mitems\u001b[0m\u001b[0;34m.\u001b[0m\u001b[0mget_loc\u001b[0m\u001b[0;34m(\u001b[0m\u001b[0mitem\u001b[0m\u001b[0;34m)\u001b[0m\u001b[0;34m\u001b[0m\u001b[0m\n\u001b[0m\u001b[1;32m   3591\u001b[0m             \u001b[0;32melse\u001b[0m\u001b[0;34m:\u001b[0m\u001b[0;34m\u001b[0m\u001b[0m\n\u001b[1;32m   3592\u001b[0m                 \u001b[0mindexer\u001b[0m \u001b[0;34m=\u001b[0m \u001b[0mnp\u001b[0m\u001b[0;34m.\u001b[0m\u001b[0marange\u001b[0m\u001b[0;34m(\u001b[0m\u001b[0mlen\u001b[0m\u001b[0;34m(\u001b[0m\u001b[0mself\u001b[0m\u001b[0;34m.\u001b[0m\u001b[0mitems\u001b[0m\u001b[0;34m)\u001b[0m\u001b[0;34m)\u001b[0m\u001b[0;34m[\u001b[0m\u001b[0misnull\u001b[0m\u001b[0;34m(\u001b[0m\u001b[0mself\u001b[0m\u001b[0;34m.\u001b[0m\u001b[0mitems\u001b[0m\u001b[0;34m)\u001b[0m\u001b[0;34m]\u001b[0m\u001b[0;34m\u001b[0m\u001b[0m\n",
      "\u001b[0;32m/home/keplerc/.local/lib/python3.5/site-packages/pandas/core/indexes/base.py\u001b[0m in \u001b[0;36mget_loc\u001b[0;34m(self, key, method, tolerance)\u001b[0m\n\u001b[1;32m   2442\u001b[0m                 \u001b[0;32mreturn\u001b[0m \u001b[0mself\u001b[0m\u001b[0;34m.\u001b[0m\u001b[0m_engine\u001b[0m\u001b[0;34m.\u001b[0m\u001b[0mget_loc\u001b[0m\u001b[0;34m(\u001b[0m\u001b[0mkey\u001b[0m\u001b[0;34m)\u001b[0m\u001b[0;34m\u001b[0m\u001b[0m\n\u001b[1;32m   2443\u001b[0m             \u001b[0;32mexcept\u001b[0m \u001b[0mKeyError\u001b[0m\u001b[0;34m:\u001b[0m\u001b[0;34m\u001b[0m\u001b[0m\n\u001b[0;32m-> 2444\u001b[0;31m                 \u001b[0;32mreturn\u001b[0m \u001b[0mself\u001b[0m\u001b[0;34m.\u001b[0m\u001b[0m_engine\u001b[0m\u001b[0;34m.\u001b[0m\u001b[0mget_loc\u001b[0m\u001b[0;34m(\u001b[0m\u001b[0mself\u001b[0m\u001b[0;34m.\u001b[0m\u001b[0m_maybe_cast_indexer\u001b[0m\u001b[0;34m(\u001b[0m\u001b[0mkey\u001b[0m\u001b[0;34m)\u001b[0m\u001b[0;34m)\u001b[0m\u001b[0;34m\u001b[0m\u001b[0m\n\u001b[0m\u001b[1;32m   2445\u001b[0m \u001b[0;34m\u001b[0m\u001b[0m\n\u001b[1;32m   2446\u001b[0m         \u001b[0mindexer\u001b[0m \u001b[0;34m=\u001b[0m \u001b[0mself\u001b[0m\u001b[0;34m.\u001b[0m\u001b[0mget_indexer\u001b[0m\u001b[0;34m(\u001b[0m\u001b[0;34m[\u001b[0m\u001b[0mkey\u001b[0m\u001b[0;34m]\u001b[0m\u001b[0;34m,\u001b[0m \u001b[0mmethod\u001b[0m\u001b[0;34m=\u001b[0m\u001b[0mmethod\u001b[0m\u001b[0;34m,\u001b[0m \u001b[0mtolerance\u001b[0m\u001b[0;34m=\u001b[0m\u001b[0mtolerance\u001b[0m\u001b[0;34m)\u001b[0m\u001b[0;34m\u001b[0m\u001b[0m\n",
      "\u001b[0;32mpandas/_libs/index.pyx\u001b[0m in \u001b[0;36mpandas._libs.index.IndexEngine.get_loc (pandas/_libs/index.c:5280)\u001b[0;34m()\u001b[0m\n",
      "\u001b[0;32mpandas/_libs/index.pyx\u001b[0m in \u001b[0;36mpandas._libs.index.IndexEngine.get_loc (pandas/_libs/index.c:5126)\u001b[0;34m()\u001b[0m\n",
      "\u001b[0;32mpandas/_libs/hashtable_class_helper.pxi\u001b[0m in \u001b[0;36mpandas._libs.hashtable.PyObjectHashTable.get_item (pandas/_libs/hashtable.c:20523)\u001b[0;34m()\u001b[0m\n",
      "\u001b[0;32mpandas/_libs/hashtable_class_helper.pxi\u001b[0m in \u001b[0;36mpandas._libs.hashtable.PyObjectHashTable.get_item (pandas/_libs/hashtable.c:20477)\u001b[0;34m()\u001b[0m\n",
      "\u001b[0;31mKeyError\u001b[0m: 'Hand'"
     ]
    }
   ],
   "source": [
    "train_labels = (training_df[\"Hand\"].apply(lambda x: x > SCORE_FOLD)).astype(int)\n",
    "training_df = training_df.drop('Hand', 1)\n",
    "print(train_labels)\n",
    "print(training_df)"
   ]
  },
  {
   "cell_type": "code",
   "execution_count": 46,
   "metadata": {
    "collapsed": false
   },
   "outputs": [
    {
     "name": "stdout",
     "output_type": "stream",
     "text": [
      "(250100, 9)\n",
      "(250100, 9)\n",
      "(250100,)\n"
     ]
    }
   ],
   "source": [
    "import numpy as np\n",
    "\n",
    "print(training_df. shape)\n",
    "trainX = training_df.iloc[:, 0:9].values\n",
    "trainY = train_labels.values\n",
    "\n",
    "learning_rate = 0.01\n",
    "training_epochs = 1000\n",
    "batch_size = 100\n",
    "display_step = 50\n",
    "m, n = trainX.shape\n",
    "#m: number of training samples \n",
    "#n: number of features\n",
    "\n",
    "print(trainX.shape)\n",
    "print(trainY.shape)\n",
    "\n",
    "def fetch_batch(X_train, Y_train, batch_index, batch_size):\n",
    "    X_batch = X_train[batch_index*batch_size: (batch_index+1)*batch_size, :]\n",
    "    y_batch = Y_train[batch_index*batch_size: (batch_index+1)*batch_size]\n",
    "    return X_batch, y_batch\n",
    "    "
   ]
  },
  {
   "cell_type": "code",
   "execution_count": null,
   "metadata": {
    "collapsed": false
   },
   "outputs": [
    {
     "name": "stdout",
     "output_type": "stream",
     "text": [
      "Epoch: 00050 cost= 766.89322083666877460928\n",
      "Now the weight is :[[-0.62631583]\n",
      " [ 0.45940495]\n",
      " [ 0.98255372]\n",
      " [ 0.0758636 ]\n",
      " [-0.34868145]\n",
      " [ 0.7669394 ]\n",
      " [ 0.08245397]\n",
      " [-0.21151423]\n",
      " [-0.22599506]]\n",
      "\n",
      "Now the weight is :-63.7829\n",
      "\n"
     ]
    }
   ],
   "source": [
    "#tensorflow\n",
    "#do logistic regression \n",
    "import tensorflow as tf\n",
    "import numpy as np\n",
    "\n",
    "\n",
    "#graph input\n",
    "x = tf.placeholder(tf.float32, [None, n])\n",
    "Y = tf.placeholder(tf.float32)\n",
    "\n",
    "#weights \n",
    "#W = tf.Variable(tf.zeros([n, 1]), name=\"weight\")\n",
    "W = tf.random_uniform([n, 1], -1.0, 1.0)\n",
    "b = tf.Variable(np.random.randn(), name=\"bias\")\n",
    "\n",
    "#model\n",
    "pred = tf.nn.sigmoid(tf.matmul(x, W) + b)\n",
    "\n",
    "#cost \n",
    "cost = tf.reduce_sum(tf.pow(pred-Y, 2))\n",
    "\n",
    "#optimizer is Gradient Descent\n",
    "optimizer = tf.train.GradientDescentOptimizer(learning_rate).minimize(cost)\n",
    "\n",
    "init = tf.global_variables_initializer()\n",
    "\n",
    "#training\n",
    "with tf.Session() as sess:\n",
    "    sess.run(init)\n",
    "    \n",
    "    for epoch in range(training_epochs):\n",
    "        average_cost = 0\n",
    "        total_batch = int(m / batch_size)\n",
    "        for i in range(total_batch):\n",
    "            batch_x, batch_y = fetch_batch(trainX, trainY, i, batch_size)\n",
    "            _, c = sess.run([optimizer, cost], feed_dict={x: batch_x, Y: batch_y})\n",
    "            average_cost += c/total_batch\n",
    "            #print(W.eval())\n",
    "        \n",
    "        if(epoch+1) % display_step == 0:\n",
    "            print(\"Epoch:\", '%05d' % (epoch+1), \"cost=\", \"{:.20f}\".format(average_cost))\n",
    "            print(\"Now the weight is :\" + str(W.eval()) + \"\\n\")\n",
    "            print(\"Now the weight is :\" + str(b.eval()) + \"\\n\")\n",
    "            \n",
    "    print(\"Optimization Finished!\")"
   ]
  }
 ],
 "metadata": {
  "kernelspec": {
   "display_name": "Python 3",
   "language": "python",
   "name": "python3"
  },
  "language_info": {
   "codemirror_mode": {
    "name": "ipython",
    "version": 3
   },
   "file_extension": ".py",
   "mimetype": "text/x-python",
   "name": "python",
   "nbconvert_exporter": "python",
   "pygments_lexer": "ipython3",
   "version": "3.5.3"
  }
 },
 "nbformat": 4,
 "nbformat_minor": 2
}
